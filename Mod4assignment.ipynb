{
 "cells": [
  {
   "cell_type": "code",
   "execution_count": 1,
   "id": "70e6078f-df5c-44c7-9972-151b0a172882",
   "metadata": {},
   "outputs": [
    {
     "name": "stdout",
     "output_type": "stream",
     "text": [
      "Open 9-5 daily\n"
     ]
    }
   ],
   "source": [
    "import zoo\n",
    "zoo.hours()"
   ]
  },
  {
   "cell_type": "code",
   "execution_count": 2,
   "id": "5fface8a-6108-4167-a7df-0c0dbcd08100",
   "metadata": {},
   "outputs": [
    {
     "name": "stdout",
     "output_type": "stream",
     "text": [
      "Open 9-5 daily\n"
     ]
    }
   ],
   "source": [
    "import zoo as menagerie\n",
    "menagerie.hours()"
   ]
  },
  {
   "cell_type": "code",
   "execution_count": 5,
   "id": "af7265a6-1adc-4a2d-9617-b347249a1c02",
   "metadata": {},
   "outputs": [
    {
     "name": "stdout",
     "output_type": "stream",
     "text": [
      "CSV file 'books2.csv' has been created successfully!\n"
     ]
    }
   ],
   "source": [
    "import csv\n",
    "books = [\n",
    "    [\"title\", \"author\", \"year\"],\n",
    "    [\"The Weirdstone of Brisingamen\", \"Alan Garner\", 1960],\n",
    "    [\"Perdido Street Station\", \"China Miéville\", 2000],\n",
    "    [\"Thud!\", \"Terry Pratchett\", 2005],\n",
    "    [\"The Spellman Files\", \"Lisa Lutz\", 2007],\n",
    "    [\"Small Gods\", \"Terry Pratchett\", 1992]\n",
    "]\n",
    "with open(\"books2.csv\", \"w\", newline=\"\", encoding=\"utf-8\") as file:\n",
    "    writer = csv.writer(file)\n",
    "    writer.writerows(books)\n",
    "\n",
    "print(\"CSV file 'books2.csv' has been created successfully!\")\n"
   ]
  },
  {
   "cell_type": "code",
   "execution_count": 1,
   "id": "69362368-905f-4b22-bce6-3a932c954bdd",
   "metadata": {},
   "outputs": [
    {
     "name": "stdout",
     "output_type": "stream",
     "text": [
      "Database and table created successfully!\n"
     ]
    }
   ],
   "source": [
    "import sqlite3\n",
    "\n",
    "conn = sqlite3.connect(\"books.db\")\n",
    "\n",
    "cursor = conn.cursor()\n",
    "\n",
    "cursor.execute(\"\"\"\n",
    "CREATE TABLE IF NOT EXISTS books (\n",
    "    title TEXT,\n",
    "    author TEXT,\n",
    "    year INTEGER\n",
    ")\n",
    "\"\"\")\n",
    "\n",
    "conn.commit()\n",
    "conn.close()\n",
    "\n",
    "print(\"Database and table created successfully!\")"
   ]
  },
  {
   "cell_type": "code",
   "execution_count": 2,
   "id": "2e2b443d-4c18-4590-828b-816de3134225",
   "metadata": {},
   "outputs": [],
   "source": [
    "from sqlalchemy import create_engine, MetaData, Table\n",
    "from sqlalchemy.orm import sessionmaker\n",
    "\n",
    "engine = create_engine(\"sqlite:///books.db\")\n",
    "metadata = MetaData()\n",
    "metadata.reflect(bind=engine)\n",
    "\n",
    "books_table = metadata.tables[\"books\"]\n",
    "\n",
    "Session = sessionmaker(bind=engine)\n",
    "session = Session()\n",
    "\n",
    "query = session.query(books_table.c.title).order_by(books_table.c.title)\n",
    "titles = query.all()\n",
    "\n",
    "for title in titles:\n",
    "    print(title[0])\n",
    "\n",
    "session.close()"
   ]
  }
 ],
 "metadata": {
  "kernelspec": {
   "display_name": "Python 3 (ipykernel)",
   "language": "python",
   "name": "python3"
  },
  "language_info": {
   "codemirror_mode": {
    "name": "ipython",
    "version": 3
   },
   "file_extension": ".py",
   "mimetype": "text/x-python",
   "name": "python",
   "nbconvert_exporter": "python",
   "pygments_lexer": "ipython3",
   "version": "3.12.7"
  }
 },
 "nbformat": 4,
 "nbformat_minor": 5
}
