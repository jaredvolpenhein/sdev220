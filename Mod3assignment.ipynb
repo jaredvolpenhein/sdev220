{
 "cells": [
  {
   "cell_type": "code",
   "execution_count": 1,
   "id": "8ed19098-f298-41bb-8b0b-610ece603ccf",
   "metadata": {},
   "outputs": [],
   "source": [
    "things = [\"mozzarella\", \"cinderella\", \"salomella\"]"
   ]
  },
  {
   "cell_type": "code",
   "execution_count": 3,
   "id": "f0897ba7-d2b6-4cff-80f1-d36c3fa6b811",
   "metadata": {},
   "outputs": [],
   "source": [
    "things[1] = things[1].capitalize()"
   ]
  },
  {
   "cell_type": "code",
   "execution_count": 4,
   "id": "fdbbf221-690e-4289-a2ed-1639c05360cb",
   "metadata": {},
   "outputs": [],
   "source": [
    "things[0] = things[0].upper()"
   ]
  },
  {
   "cell_type": "code",
   "execution_count": 9,
   "id": "fb0075c3-a9b4-4275-97a7-213d653b4c15",
   "metadata": {},
   "outputs": [],
   "source": [
    "things.remove(\"salomella\")"
   ]
  },
  {
   "cell_type": "code",
   "execution_count": 10,
   "id": "0758f2b8-156d-4313-bf4c-5d6efb644438",
   "metadata": {},
   "outputs": [
    {
     "name": "stdout",
     "output_type": "stream",
     "text": [
      "['MOZZARELLA', 'Cinderella']\n"
     ]
    }
   ],
   "source": [
    "print(things)"
   ]
  },
  {
   "cell_type": "code",
   "execution_count": 12,
   "id": "5908a716-4a65-4902-8547-bcda05f8c404",
   "metadata": {},
   "outputs": [],
   "source": [
    "def good():\n",
    "    return['Harry', 'Ron', 'Hermoine']"
   ]
  },
  {
   "cell_type": "code",
   "execution_count": 22,
   "id": "9e79916f-074e-4b5c-ac37-23e5f49e0d74",
   "metadata": {},
   "outputs": [
    {
     "name": "stdout",
     "output_type": "stream",
     "text": [
      "5\n"
     ]
    }
   ],
   "source": [
    "def get_odds():\n",
    "    for num in range(10):\n",
    "        if num %2 != 0:\n",
    "            yield num\n",
    "\n",
    "count = 0\n",
    "for odd in get_odds():\n",
    "    count += 1\n",
    "    if count == 3:\n",
    "        print(odd)\n",
    "        break"
   ]
  },
  {
   "cell_type": "code",
   "execution_count": null,
   "id": "5291d499-ea41-433d-88dd-131d2e49b80a",
   "metadata": {},
   "outputs": [],
   "source": []
  }
 ],
 "metadata": {
  "kernelspec": {
   "display_name": "Python 3 (ipykernel)",
   "language": "python",
   "name": "python3"
  },
  "language_info": {
   "codemirror_mode": {
    "name": "ipython",
    "version": 3
   },
   "file_extension": ".py",
   "mimetype": "text/x-python",
   "name": "python",
   "nbconvert_exporter": "python",
   "pygments_lexer": "ipython3",
   "version": "3.12.7"
  }
 },
 "nbformat": 4,
 "nbformat_minor": 5
}
